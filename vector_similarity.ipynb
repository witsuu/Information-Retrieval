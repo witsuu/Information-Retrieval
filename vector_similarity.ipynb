{
 "cells": [
  {
   "cell_type": "markdown",
   "metadata": {},
   "source": [
    "# Dictionary"
   ]
  },
  {
   "cell_type": "code",
   "execution_count": 7,
   "metadata": {},
   "outputs": [],
   "source": [
    "dokOne=\"mahasiswa fasilkom universitas jember adalah mahasiswa hebat mahasiswa fasilkom universitas jember banyak memenangkan turnamen baik akademik maupun non akademik mulai tahun pertama mahasiswa fasilkom universitas jember telah menunjukkan semangat untuk maju yang sangat tinggi\"\n",
    "dokTwo =\"prodi pertama fasilkom universitas jember adalah prodi sistem informasi prodi sistem informasi fasilkom universitas jember mulai menerima mahasiswa pada tahun 2009 prodi  sistem informasi fasilkom universitas jember berdiri sebagai prodi setara fakultas sehingga prodi sistem informasi ini tidak berada di bawah fakultas manapun saat itu\"\n",
    "dokThree=\"prodi informatika fasilkom universitas jember memiliki matakuliah pilihan yang bernama STKI matakuliah STKI ditawarkan untuk mahasiswa yang ingin mempelajari metode pencarian informasi dari sekumpulan dokumen teks yang merupakan data tidak terstruktur matakuliah STKI ditawarkan pada semester 6 Saat ini matakuliah STKI ditempuh 24 mahasiswa\"\n",
    "\n",
    "dok1=[]\n",
    "dok2=[]\n",
    "dok3=[]\n",
    "\n",
    "dok1.extend(dokOne.split(\" \"))\n",
    "dok2.extend(dokTwo.split(\" \"))\n",
    "dok3.extend(dokThree.split(\" \"))"
   ]
  },
  {
   "cell_type": "markdown",
   "metadata": {},
   "source": [
    "# Frekuensi Dokumen 1"
   ]
  },
  {
   "cell_type": "code",
   "execution_count": 60,
   "metadata": {},
   "outputs": [
    {
     "data": {
      "text/plain": [
       "[4, 3, 3, 3, 1, 1, 1, 1, 1, 1, 2, 1, 1, 1, 1, 1, 1, 1, 1, 1, 1, 1, 1, 1]"
      ]
     },
     "execution_count": 60,
     "metadata": {},
     "output_type": "execute_result"
    }
   ],
   "source": [
    "frekTerm1={}\n",
    "frek1=[]\n",
    "\n",
    "for i in dok1:\n",
    "    frekTerm1[i] = dok1.count(i)\n",
    "    # frek1.append(frekTerm1[i])\n",
    "    \n",
    "for i in frekTerm1:\n",
    "    frek1.append(frekTerm1[i])\n",
    "\n",
    "frek1"
   ]
  },
  {
   "cell_type": "markdown",
   "metadata": {},
   "source": [
    "# Frekuensi Dokumen 2"
   ]
  },
  {
   "cell_type": "code",
   "execution_count": 96,
   "metadata": {},
   "outputs": [
    {
     "data": {
      "text/plain": [
       "[6,\n",
       " 1,\n",
       " 3,\n",
       " 3,\n",
       " 3,\n",
       " 1,\n",
       " 4,\n",
       " 4,\n",
       " 1,\n",
       " 1,\n",
       " 1,\n",
       " 1,\n",
       " 1,\n",
       " 1,\n",
       " 1,\n",
       " 1,\n",
       " 1,\n",
       " 1,\n",
       " 2,\n",
       " 1,\n",
       " 1,\n",
       " 1,\n",
       " 1,\n",
       " 1,\n",
       " 1,\n",
       " 1,\n",
       " 1,\n",
       " 1]"
      ]
     },
     "execution_count": 96,
     "metadata": {},
     "output_type": "execute_result"
    }
   ],
   "source": [
    "frekTerm2={}\n",
    "frek2=[]\n",
    "\n",
    "for i in dok2:\n",
    "    frekTerm2[i] = dok2.count(i)\n",
    "\n",
    "for i in frekTerm2:\n",
    "    frek2.append(frekTerm2[i])\n",
    "    \n",
    "frek2"
   ]
  },
  {
   "cell_type": "markdown",
   "metadata": {},
   "source": [
    "# Frekuensi Dokumen 3"
   ]
  },
  {
   "cell_type": "code",
   "execution_count": 79,
   "metadata": {},
   "outputs": [
    {
     "data": {
      "text/plain": [
       "[1,\n",
       " 1,\n",
       " 1,\n",
       " 1,\n",
       " 1,\n",
       " 1,\n",
       " 4,\n",
       " 1,\n",
       " 3,\n",
       " 1,\n",
       " 4,\n",
       " 2,\n",
       " 1,\n",
       " 2,\n",
       " 1,\n",
       " 1,\n",
       " 1,\n",
       " 1,\n",
       " 1,\n",
       " 1,\n",
       " 1,\n",
       " 1,\n",
       " 1,\n",
       " 1,\n",
       " 1,\n",
       " 1,\n",
       " 1,\n",
       " 1,\n",
       " 1,\n",
       " 1,\n",
       " 1,\n",
       " 1,\n",
       " 1,\n",
       " 1]"
      ]
     },
     "execution_count": 79,
     "metadata": {},
     "output_type": "execute_result"
    }
   ],
   "source": [
    "frekTerm3={}\n",
    "frek3=[]\n",
    "\n",
    "for i in dok3:\n",
    "    frekTerm3[i] = dok3.count(i)\n",
    "\n",
    "for i in frekTerm3:\n",
    "    frek3.append(frekTerm3[i])\n",
    "    \n",
    "frek3"
   ]
  },
  {
   "cell_type": "markdown",
   "metadata": {},
   "source": [
    "# Cosine (Dokumen 1 dengan Dokumen 2)"
   ]
  },
  {
   "cell_type": "code",
   "execution_count": 92,
   "metadata": {},
   "outputs": [
    {
     "name": "stdout",
     "output_type": "stream",
     "text": [
      "top: 43\n",
      "bot1: 66 \n",
      "bot2: 120\n",
      "result: 0.48317656809865683\n"
     ]
    }
   ],
   "source": [
    "import math\n",
    "\n",
    "top=1\n",
    "\n",
    "for i in range(max(len(frek1),len(frek2))):\n",
    "    temp = 0 if len(frek1) - 1 < i else frek1[i] * 0 if len(frek2) - 1 < i else frek2[i]\n",
    "    top += temp\n",
    "\n",
    "print(\"top:\",top)\n",
    "\n",
    "bot1=0\n",
    "bot2=0\n",
    "\n",
    "for i in range(len(frek1)):\n",
    "    bot1 += frek1[i]**2\n",
    "\n",
    "for j in range(len(frek2)):\n",
    "    bot2 += frek2[j]**2\n",
    "\n",
    "print(\"bot1:\",bot1,\"\\nbot2:\",bot2)\n",
    "\n",
    "res = top / math.sqrt(bot1 * bot2)\n",
    "\n",
    "print(\"result:\",res)\n"
   ]
  },
  {
   "cell_type": "markdown",
   "metadata": {},
   "source": [
    "# Cosine (Dokumen 1 dengan Dokumen 3)"
   ]
  },
  {
   "cell_type": "code",
   "execution_count": 93,
   "metadata": {},
   "outputs": [
    {
     "name": "stdout",
     "output_type": "stream",
     "text": [
      "top: 35\n",
      "bot1: 66 \n",
      "bot2: 78\n",
      "result: 0.48780783917080295\n"
     ]
    }
   ],
   "source": [
    "import math\n",
    "\n",
    "top=1\n",
    "\n",
    "for i in range(max(len(frek1),len(frek3))):\n",
    "    temp = 0 if len(frek1) - 1 < i else frek1[i] * 0 if len(frek3) - 1 < i else frek3[i]\n",
    "    top += temp\n",
    "\n",
    "print(\"top:\",top)\n",
    "\n",
    "bot1=0\n",
    "bot2=0\n",
    "\n",
    "for i in range(len(frek1)):\n",
    "    bot1 += frek1[i]**2\n",
    "\n",
    "for j in range(len(frek3)):\n",
    "    bot2 += frek3[j]**2\n",
    "\n",
    "print(\"bot1:\",bot1,\"\\nbot2:\",bot2)\n",
    "\n",
    "res = top / math.sqrt(bot1 * bot2)\n",
    "\n",
    "print(\"result:\",res)"
   ]
  },
  {
   "cell_type": "markdown",
   "metadata": {},
   "source": [
    "# Cosine (Dokumen 2 dengan 3)"
   ]
  },
  {
   "cell_type": "code",
   "execution_count": 94,
   "metadata": {},
   "outputs": [
    {
     "name": "stdout",
     "output_type": "stream",
     "text": [
      "top: 39\n",
      "bot1: 120 \n",
      "bot2: 78\n",
      "result: 0.4031128874149275\n"
     ]
    }
   ],
   "source": [
    "import math\n",
    "\n",
    "top=1\n",
    "\n",
    "for i in range(max(len(frek2),len(frek3))):\n",
    "    temp = 0 if len(frek2) - 1 < i else frek2[i] * 0 if len(frek3) - 1 < i else frek3[i]\n",
    "    top += temp\n",
    "\n",
    "print(\"top:\",top)\n",
    "\n",
    "bot1=0\n",
    "bot2=0\n",
    "\n",
    "for i in range(len(frek2)):\n",
    "    bot1 += frek2[i]**2\n",
    "\n",
    "for j in range(len(frek3)):\n",
    "    bot2 += frek3[j]**2\n",
    "\n",
    "print(\"bot1:\",bot1,\"\\nbot2:\",bot2)\n",
    "\n",
    "res = top / math.sqrt(bot1 * bot2)\n",
    "\n",
    "print(\"result:\",res)"
   ]
  }
 ],
 "metadata": {
  "kernelspec": {
   "display_name": "Python 3.10.6 64-bit",
   "language": "python",
   "name": "python3"
  },
  "language_info": {
   "codemirror_mode": {
    "name": "ipython",
    "version": 3
   },
   "file_extension": ".py",
   "mimetype": "text/x-python",
   "name": "python",
   "nbconvert_exporter": "python",
   "pygments_lexer": "ipython3",
   "version": "3.10.6"
  },
  "orig_nbformat": 4,
  "vscode": {
   "interpreter": {
    "hash": "369f2c481f4da34e4445cda3fffd2e751bd1c4d706f27375911949ba6bb62e1c"
   }
  }
 },
 "nbformat": 4,
 "nbformat_minor": 2
}
